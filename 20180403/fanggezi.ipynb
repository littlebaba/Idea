{
 "cells": [
  {
   "cell_type": "code",
   "execution_count": 91,
   "metadata": {},
   "outputs": [
    {
     "name": "stdout",
     "output_type": "stream",
     "text": [
      "Populating the interactive namespace from numpy and matplotlib\n"
     ]
    }
   ],
   "source": [
    "%pylab inline\n",
    "import turtle as t"
   ]
  },
  {
   "cell_type": "code",
   "execution_count": 92,
   "metadata": {},
   "outputs": [],
   "source": [
    "t.screensize()\n",
    "t.clear()\n",
    "t.penup()\n",
    "t.goto(-180,-180)\n",
    "t.left(90)\n",
    "t.color('black','white')\n",
    "t.speed(6)"
   ]
  },
  {
   "cell_type": "code",
   "execution_count": 93,
   "metadata": {},
   "outputs": [],
   "source": [
    "t.pendown()\n",
    "t.forward(360)\n",
    "for i in range(1,10):\n",
    "    t.penup()\n",
    "    t.goto(-180,-180+i*40)\n",
    "    t.pendown()\n",
    "    t.forward(360)"
   ]
  },
  {
   "cell_type": "code",
   "execution_count": 94,
   "metadata": {
    "collapsed": true
   },
   "outputs": [],
   "source": [
    "t.right(90)\n",
    "t.forward(360)\n",
    "for i in range(1,10):\n",
    "    t.penup()\n",
    "    t.goto(180-i*40,180)\n",
    "    t.pendown()\n",
    "    t.forward(360)"
   ]
  },
  {
   "cell_type": "code",
   "execution_count": 95,
   "metadata": {
    "collapsed": true
   },
   "outputs": [],
   "source": [
    "t.speed(8)\n",
    "t.penup()\n",
    "t.color('red','yellow')\n",
    "for c in range(9):\n",
    "    t.goto(180-c*40,160)\n",
    "    for i in range(9):\n",
    "        t.begin_fill()\n",
    "        t.pendown()\n",
    "        t.circle(-20)\n",
    "        t.end_fill()\n",
    "        t.forward(40)\n",
    "    t.undo()\n",
    "    t.penup()"
   ]
  },
  {
   "cell_type": "code",
   "execution_count": 96,
   "metadata": {
    "collapsed": true
   },
   "outputs": [],
   "source": [
    "t.hideturtle()"
   ]
  },
  {
   "cell_type": "code",
   "execution_count": null,
   "metadata": {
    "collapsed": true
   },
   "outputs": [],
   "source": []
  },
  {
   "cell_type": "code",
   "execution_count": null,
   "metadata": {
    "collapsed": true
   },
   "outputs": [],
   "source": []
  }
 ],
 "metadata": {
  "kernelspec": {
   "display_name": "Python 3",
   "language": "python",
   "name": "python3"
  },
  "language_info": {
   "codemirror_mode": {
    "name": "ipython",
    "version": 3
   },
   "file_extension": ".py",
   "mimetype": "text/x-python",
   "name": "python",
   "nbconvert_exporter": "python",
   "pygments_lexer": "ipython3",
   "version": "3.6.1"
  }
 },
 "nbformat": 4,
 "nbformat_minor": 2
}
